{
 "cells": [
  {
   "cell_type": "code",
   "execution_count": 1,
   "metadata": {},
   "outputs": [],
   "source": [
    "import sys\n",
    "import re\n",
    "import numpy as np\n",
    "#import strassen.py as st\n"
   ]
  },
  {
   "cell_type": "markdown",
   "metadata": {},
   "source": [
    "# Método Strassen"
   ]
  },
  {
   "cell_type": "code",
   "execution_count": 2,
   "metadata": {},
   "outputs": [],
   "source": [
    "def strassen(A,B):\n",
    "    n = A.shape[0]\n",
    "    C = np.zeros((n*n), dtype=np.int).reshape(n,n)\n",
    "    \n",
    "    # Caso Base para a multiplicação de matrizes\n",
    "    if n == 2:\n",
    "        \n",
    "        \n",
    "        p1=A[0][0]*(B[0][1]-B[1][1])\n",
    "        p2=(A[0][0]+A[0][1])*B[1][1]\n",
    "        p3=(A[1][0]+A[1][1])*B[0][0]\n",
    "        p4=A[1][1]*(B[1][0]-B[0][0])\n",
    "        p5=(A[0][0] + A[1][1])*(B[0][0]+B[1][1])\n",
    "        p6=(A[0][1]-A[1][1])*(B[1][0]+B[1][1])\n",
    "        p7=(A[0][0]-A[1][0])*(B[0][0]+B[0][1])\n",
    "\n",
    "        C[0][0]= p5 + p4 - p2 + p6\n",
    "        C[0][1]= p1 + p2\n",
    "        C[1][0]= p3 + p4 \n",
    "        C[1][1]= p1 + p5 - p3 - p7\n",
    "        \n",
    "        return C\n",
    "    \n",
    "    # Caso em que o tamanho da matriz não é Ímpar\n",
    "    elif (n%2!=0): \n",
    "        \n",
    "        # Adiciona linha e coluna de zeros para se tornarem matrizes quadradas de tamanho Par\n",
    "        A = addzeros(A)\n",
    "        B = addzeros(B)\n",
    "        C = addzeros(C)\n",
    "        x = C.shape[0]\n",
    "        k = int(x/2)\n",
    "        \n",
    "        # Dividindo cada quadrante das matrizes que serão multiplicadas\n",
    "        A11,A21,A12,A22 = A[:k,:k], A[k:, :k], A[:k, k:], A[k:, k:]\n",
    "        B11,B21,B12,B22 = B[:k,:k], B[k:, :k], B[:k, k:], B[k:, k:]\n",
    "\n",
    "        # Resumo de todas as operações Básicas\n",
    "        S1 = B12 - B22\n",
    "        S2 = A11 + A12\n",
    "        S3 = A21 + A22\n",
    "        S4 = B21 - B11\n",
    "        S5 = A11 + A22\n",
    "        S6 = B11 + B22\n",
    "        S7 = A12 - A22\n",
    "        S8 = B21 + B22\n",
    "        S9 = A11 - A21\n",
    "        S10= B11 + B12\n",
    "        \n",
    "\n",
    "        \n",
    "        P1 = strassen(A11, S1)\n",
    "        P2 = strassen(S2, B22)\n",
    "        P3 = strassen(S3, B11)\n",
    "        P4 = strassen(A22, S4)\n",
    "        P5 = strassen(S5, S6)\n",
    "        P6 = strassen(S7, S8)\n",
    "        P7 = strassen(S9, S10)\n",
    "\n",
    "\n",
    "        # Calcula cada quadrante da Matriz\n",
    "        C[:k,:k] = ((P4 - P2) + (P5 + P6))\n",
    "        C[k:, :k] = (P3 + P4)\n",
    "        C[:k, k:] = (P1 + P2)\n",
    "        C[k:, k:] = ((P5 - P3) + (P1 - P7))\n",
    "        \n",
    "        # Remove A linha e coluna de zeros do resultado final\n",
    "        C = delzeros(C)\n",
    "        \n",
    "        return C\n",
    "    \n",
    "    # Caso em que o tamanho da matriz é Par\n",
    "    else:\n",
    "    \n",
    "        k = int(n/2) \n",
    "\n",
    "        A11,A21,A12,A22 = A[:k,:k], A[k:, :k], A[:k, k:], A[k:, k:]\n",
    "        B11,B21,B12,B22 = B[:k,:k], B[k:, :k], B[:k, k:], B[k:, k:]\n",
    "\n",
    "        S1 = B12 - B22\n",
    "        S2 = A11 + A12\n",
    "        S3 = A21 + A22\n",
    "        S4 = B21 - B11\n",
    "        S5 = A11 + A22\n",
    "        S6 = B11 + B22\n",
    "        S7 = A12 - A22\n",
    "        S8 = B21 + B22\n",
    "        S9 = A11 - A21\n",
    "        S10= B11 + B12\n",
    "\n",
    "        P1 = strassen(A11, S1)\n",
    "        P2 = strassen(S2, B22)\n",
    "        P3 = strassen(S3, B11)\n",
    "        P4 = strassen(A22, S4)\n",
    "        P5 = strassen(S5, S6)\n",
    "        P6 = strassen(S7, S8)\n",
    "        P7 = strassen(S9, S10)\n",
    "\n",
    "        C[:k,:k] = P5 + P4 - P2 + P6\n",
    "        C[k:, :k] = P1 + P2\n",
    "        C[:k, k:] = P3 + P4\n",
    "        C[k:, k:] = P5 + P1 - P3 - P7\n",
    "\n",
    "\n",
    "        return C\n",
    "\n",
    "\n",
    "# Função para criar uma linha e coluna de zeros para caso a matriz quadrada seja de número impár\n",
    "def addzeros(A):\n",
    "    n = A.shape[0]\n",
    "    B = np.zeros((n+1, n+1))\n",
    "    B[:n,:n] = A\n",
    "    return B\n",
    "\n",
    "# Função para deletar a linha e coluna de zeros adicionados na função anterior.\n",
    "# É uma operação fundamental, pois é necessário manter o tamanho da matriz original de entrada\n",
    "def delzeros(A):\n",
    "    B = A[:-1, :-1]\n",
    "    return B"
   ]
  },
  {
   "cell_type": "markdown",
   "metadata": {},
   "source": [
    "# Método Tradicional"
   ]
  },
  {
   "cell_type": "code",
   "execution_count": 3,
   "metadata": {},
   "outputs": [],
   "source": [
    "def tradic(A,B):\n",
    "    \n",
    "    #result = [ [ 0 for i in range( len(A) ) ] for j in range( len(A) ) ] \n",
    "    result = np.zeros(shape=( len(A) , len(A) ))\n",
    "    \n",
    "    \n",
    "    for i in range(len(A)):\n",
    "       # iterate through columns of Y\n",
    "       for j in range(len(B[0])):\n",
    "       # iterate through rows of Y\n",
    "           for k in range(len(B)):\n",
    "               result[i][j] += A[i][k] * B[k][j]\n",
    "                \n",
    "    return result"
   ]
  },
  {
   "cell_type": "markdown",
   "metadata": {},
   "source": [
    "# Declaração das Matrizes"
   ]
  },
  {
   "cell_type": "code",
   "execution_count": 4,
   "metadata": {},
   "outputs": [],
   "source": [
    "#A = np.array([[1,2,1], [2,1,2], [1,2,1]])\n",
    "#B = np.array([[2,1,2], [1,2,1], [2,1,2]])\n",
    "\n",
    "#A = np.array([[1,2], [2,1]])\n",
    "#B = np.array([[2,1], [1,2]])\n",
    "\n",
    "#A = np.array([[1,2,1,2], [2,1,2,1], [1,2,1,2], [1,2,1,2]])\n",
    "#B = np.array([[2,1,2,1], [1,2,1,2], [2,1,2,1], [1,2,1,2]])\n",
    "\n",
    "#A = np.array([[1,2,1,2,1], [2,1,2,1,2], [1,2,1,2,1], [1,2,1,2,1], [2,1,2,1,2]])\n",
    "#B = np.array([[2,1,2,1,2], [1,2,1,2,1], [2,1,2,1,2], [1,2,1,2,1], [2,1,2,1,2]])\n",
    "\n",
    "A = np.random.randint(1,99,(100, 100))\n",
    "B = np.random.randint(1,99,(100, 100))\n"
   ]
  },
  {
   "cell_type": "markdown",
   "metadata": {},
   "source": [
    "# Método de Strassen"
   ]
  },
  {
   "cell_type": "code",
   "execution_count": 5,
   "metadata": {},
   "outputs": [
    {
     "name": "stdout",
     "output_type": "stream",
     "text": [
      "[[270405 259862 241917 ... 244472 241640 240797]\n",
      " [251029 251343 278428 ... 232746 225634 236013]\n",
      " [270690 245964 238868 ... 224109 205520      0]\n",
      " ...\n",
      " [204189 234460 265406 ... 256627 263676      0]\n",
      " [208632 239039 243331 ... 258551 236659      0]\n",
      " [271232 214742      0 ...      0      0 224651]]\n"
     ]
    }
   ],
   "source": [
    "x = strassen(A, B)\n",
    "print(x)"
   ]
  },
  {
   "cell_type": "markdown",
   "metadata": {},
   "source": [
    "# Método Tradicional Numpy"
   ]
  },
  {
   "cell_type": "code",
   "execution_count": 6,
   "metadata": {},
   "outputs": [
    {
     "name": "stdout",
     "output_type": "stream",
     "text": [
      "[[270405 259862 270690 ... 278922 259818 241358]\n",
      " [251029 251343 257637 ... 247169 254193 233665]\n",
      " [241917 241912 238868 ... 242842 254026 228206]\n",
      " ...\n",
      " [250031 255586 244330 ... 256627 263676 221783]\n",
      " [266228 249869 244556 ... 258551 236659 226638]\n",
      " [244521 251952 242054 ... 241640 242830 224651]]\n"
     ]
    }
   ],
   "source": [
    "C = A.dot(B)\n",
    "print(C)"
   ]
  },
  {
   "cell_type": "markdown",
   "metadata": {},
   "source": [
    "# Método Tracional"
   ]
  },
  {
   "cell_type": "code",
   "execution_count": 7,
   "metadata": {},
   "outputs": [
    {
     "name": "stdout",
     "output_type": "stream",
     "text": [
      "[[270405. 259862. 270690. ... 278922. 259818. 241358.]\n",
      " [251029. 251343. 257637. ... 247169. 254193. 233665.]\n",
      " [241917. 241912. 238868. ... 242842. 254026. 228206.]\n",
      " ...\n",
      " [250031. 255586. 244330. ... 256627. 263676. 221783.]\n",
      " [266228. 249869. 244556. ... 258551. 236659. 226638.]\n",
      " [244521. 251952. 242054. ... 241640. 242830. 224651.]]\n"
     ]
    }
   ],
   "source": [
    "D = tradic(A,B)\n",
    "print(D)"
   ]
  },
  {
   "cell_type": "markdown",
   "metadata": {},
   "source": [
    "# Define Funções Para Cálculo Estatístico de Tempo"
   ]
  },
  {
   "cell_type": "code",
   "execution_count": 8,
   "metadata": {},
   "outputs": [],
   "source": [
    "def firstCode():\n",
    "    x = strassen(A, B)\n",
    "    print(x)\n",
    "    \n",
    "def secondCode():\n",
    "    C = A.dot(B)\n",
    "    print(C)\n",
    "    \n",
    "def thirdCode():\n",
    "    D = tradic(A,B)\n",
    "    print(D)"
   ]
  },
  {
   "cell_type": "code",
   "execution_count": 9,
   "metadata": {},
   "outputs": [],
   "source": [
    "%%capture\n",
    "# Ao todo são realizadas 40 execuções e tirada a média e desvio padrão\n",
    "a = %timeit -n 4 -r 10 -o firstCode() \n",
    "b = %timeit -n 4 -r 10 -o secondCode() \n",
    "c = %timeit -n 4 -r 10 -o thirdCode() "
   ]
  },
  {
   "cell_type": "markdown",
   "metadata": {},
   "source": [
    "# Exibe o Resultado"
   ]
  },
  {
   "cell_type": "code",
   "execution_count": 10,
   "metadata": {},
   "outputs": [
    {
     "name": "stdout",
     "output_type": "stream",
     "text": [
      "Strassen: \n",
      "3.92 s ± 29.6 ms per loop (mean ± std. dev. of 10 runs, 4 loops each)\n",
      "\n",
      "Tradicional com Numpy: \n",
      "1.85 ms ± 9.46 µs per loop (mean ± std. dev. of 10 runs, 4 loops each)\n",
      "\n",
      "Tradicional sem Numpy\n",
      "2.05 s ± 18.3 ms per loop (mean ± std. dev. of 10 runs, 4 loops each)\n"
     ]
    }
   ],
   "source": [
    "print(\"Strassen: \")\n",
    "print(a)\n",
    "\n",
    "print()\n",
    "\n",
    "print(\"Tradicional com Numpy: \")\n",
    "print(b)\n",
    "\n",
    "print()\n",
    "\n",
    "print(\"Tradicional sem Numpy\")\n",
    "print(c)"
   ]
  }
 ],
 "metadata": {
  "kernelspec": {
   "display_name": "Python 3",
   "language": "python",
   "name": "python3"
  },
  "language_info": {
   "codemirror_mode": {
    "name": "ipython",
    "version": 3
   },
   "file_extension": ".py",
   "mimetype": "text/x-python",
   "name": "python",
   "nbconvert_exporter": "python",
   "pygments_lexer": "ipython3",
   "version": "3.6.9"
  }
 },
 "nbformat": 4,
 "nbformat_minor": 4
}
